{
 "cells": [
  {
   "cell_type": "code",
   "execution_count": 106,
   "metadata": {
    "collapsed": false,
    "scrolled": true
   },
   "outputs": [],
   "source": [
    "import matplotlib.pyplot as plt\n",
    "import os\n",
    "import sys\n",
    "import numpy as np\n",
    "import keras\n",
    "from keras.applications.inception_v3 import InceptionV3\n",
    "from keras.applications.vgg19 import VGG19\n",
    "from keras.preprocessing import image\n",
    "from keras.models import Model"
   ]
  },
  {
   "cell_type": "markdown",
   "metadata": {},
   "source": [
    "# Load models"
   ]
  },
  {
   "cell_type": "code",
   "execution_count": 111,
   "metadata": {
    "collapsed": false,
    "scrolled": true
   },
   "outputs": [],
   "source": [
    "base_vgg_model = VGG19(weights='imagenet', include_top=True)\n",
    "featrue_extract_model = Model(inputs=base_vgg_model.input, outputs=base_vgg_model.get_layer('flatten').output)"
   ]
  },
  {
   "cell_type": "markdown",
   "metadata": {},
   "source": [
    "# Preprocess Image : Extract Features"
   ]
  },
  {
   "cell_type": "code",
   "execution_count": 117,
   "metadata": {
    "collapsed": false
   },
   "outputs": [],
   "source": [
    "image_size = 224\n",
    "feature_size = 7 * 7 * 512\n",
    "batch_size = 100\n",
    "\n",
    "def load_image(path):\n",
    "    img = image.load_img(img_path, target_size=(image_size, image_size))\n",
    "    return image.img_to_array(img)\n",
    "\n",
    "def load_all_image(path, files):\n",
    "    length = len(files)\n",
    "    imgs = np.zeros((length, image_size, image_size, 3))\n",
    "    labels = np.zeros(length)\n",
    "    for i, file in enumerate(files):\n",
    "        imgs[i] = load_image(file)\n",
    "        labels[i] = 1 if \"dog\" in file else 0\n",
    "    return imgs, labels\n",
    "\n",
    "def get_batchs(files, batch_size):\n",
    "    length = len(files)\n",
    "    total_batch = (length + batch_size - 1) // batch_size\n",
    "    for i in range(total_batch):\n",
    "        start = i * batch_size\n",
    "        end = start + batch_size\n",
    "        if end > length:\n",
    "            end = length\n",
    "        yield start, end, files[start: end]\n",
    "\n",
    "def extract_features(folder, max_size=-1):\n",
    "    features = np.zeros((len(train_files), feature_size))\n",
    "    labels = np.zeros(len(train_files))\n",
    "    \n",
    "    all_files = os.listdir(folder)[0:max_size]\n",
    "    for start, end, files in get_batchs(all_files, batch_size):\n",
    "        imgs, labels = load_all_image('data/train', files)\n",
    "        pred = featrue_extract_model.predict(imgs)\n",
    "        features[start:end] = pred\n",
    "        labels[start:end] = labels\n",
    "        print(\"process batch \", folder, start, end)\n",
    "    return features, labels"
   ]
  },
  {
   "cell_type": "code",
   "execution_count": 118,
   "metadata": {
    "collapsed": false,
    "scrolled": false
   },
   "outputs": [
    {
     "name": "stdout",
     "output_type": "stream",
     "text": [
      "process batch  data/train 0 2\n",
      "process batch  data/test 0 2\n",
      "data saved\n"
     ]
    }
   ],
   "source": [
    "train_features, train_labels = extract_features('data/train', max_size=2)\n",
    "test_features, test_labels = extract_features('data/test', max_size=2)       \n",
    "np.save(\"train_features.npy\", train_features)\n",
    "np.save(\"train_labels.npy\", train_labels)\n",
    "np.save(\"test_features.npy\", test_features)\n",
    "np.save(\"test_labels.npy\", test_labels)\n",
    "print(\"data saved\")"
   ]
  },
  {
   "cell_type": "code",
   "execution_count": 128,
   "metadata": {
    "collapsed": false
   },
   "outputs": [
    {
     "data": {
      "text/plain": [
       "array([ 0.,  0.])"
      ]
     },
     "execution_count": 128,
     "metadata": {},
     "output_type": "execute_result"
    }
   ],
   "source": [
    "test_labels"
   ]
  },
  {
   "cell_type": "markdown",
   "metadata": {},
   "source": [
    "# Check Point"
   ]
  },
  {
   "cell_type": "code",
   "execution_count": 157,
   "metadata": {
    "collapsed": false
   },
   "outputs": [],
   "source": [
    "train_features = np.load(\"train_features.npy\")\n",
    "train_labels = np.load(\"train_labels.npy\")\n",
    "test_features = np.load(\"test_features.npy\")\n",
    "test_labels = np.load(\"test_labels.npy\")"
   ]
  },
  {
   "cell_type": "code",
   "execution_count": 92,
   "metadata": {
    "collapsed": false
   },
   "outputs": [
    {
     "data": {
      "text/plain": [
       "array([[[[  0.        ,   0.        ,   0.        , ...,   0.        ,\n",
       "           19.664711  ,   0.        ],\n",
       "         [  9.37395573,   0.        ,   0.        , ...,   0.        ,\n",
       "            0.        ,   0.        ],\n",
       "         [  0.        ,   0.        ,   0.        , ...,   0.        ,\n",
       "            0.        ,   1.17775691],\n",
       "         ..., \n",
       "         [  0.        ,   0.        ,  20.53322983, ...,   0.        ,\n",
       "            0.        ,   0.        ],\n",
       "         [  3.18618083,   0.        ,   7.12070274, ...,   0.        ,\n",
       "            0.        ,   0.        ],\n",
       "         [  0.        ,   0.        ,   0.        , ...,   0.        ,\n",
       "            0.        ,   0.        ]],\n",
       "\n",
       "        [[  0.        ,   0.        ,   0.        , ...,   0.        ,\n",
       "           24.4475708 ,   0.        ],\n",
       "         [ 20.37709808,   0.        ,   2.97575259, ...,   0.        ,\n",
       "            0.        ,   0.        ],\n",
       "         [ 16.60351372,   0.        ,   7.79169703, ...,   0.        ,\n",
       "            0.        ,   0.        ],\n",
       "         ..., \n",
       "         [ 10.50479794,   0.        ,  27.03792   , ...,   0.        ,\n",
       "            0.        ,   0.        ],\n",
       "         [  3.18336248,   0.        ,  27.43610191, ...,   0.        ,\n",
       "            0.        ,   0.        ],\n",
       "         [  0.        ,   0.        ,   0.        , ...,   0.        ,\n",
       "            0.        ,   0.        ]],\n",
       "\n",
       "        [[  0.        ,   0.        ,   0.        , ...,   0.        ,\n",
       "            6.73496103,   0.        ],\n",
       "         [  0.        ,   0.        ,   0.        , ...,   0.        ,\n",
       "            0.        ,   0.        ],\n",
       "         [  0.        ,   0.        ,   0.        , ...,   0.        ,\n",
       "            0.        ,   0.        ],\n",
       "         ..., \n",
       "         [  0.        ,   0.        ,  16.02853203, ...,   0.        ,\n",
       "            0.        ,   0.        ],\n",
       "         [  0.        ,   0.        ,  18.19686508, ...,   0.        ,\n",
       "            0.        ,   0.        ],\n",
       "         [  0.        ,   0.        ,   0.        , ...,   0.        ,\n",
       "            0.        ,   0.        ]],\n",
       "\n",
       "        ..., \n",
       "        [[  0.        ,   0.        ,  20.61893082, ...,   0.        ,\n",
       "            0.        ,   0.        ],\n",
       "         [  0.        ,   0.        ,   0.        , ...,  14.33504581,\n",
       "            0.        ,   0.        ],\n",
       "         [  0.        ,   0.        ,   0.        , ...,   0.        ,\n",
       "            0.        ,   0.        ],\n",
       "         ..., \n",
       "         [  0.        ,   0.        ,   0.        , ...,  13.532794  ,\n",
       "            0.        ,   0.        ],\n",
       "         [  0.        ,   0.        ,   0.        , ...,  46.13032913,\n",
       "            0.        ,   0.        ],\n",
       "         [  0.        ,   0.        ,   0.        , ...,   6.70813894,\n",
       "            0.        ,   0.        ]],\n",
       "\n",
       "        [[  0.        ,   0.        ,  61.92681885, ...,   6.60537481,\n",
       "            0.        ,   0.        ],\n",
       "         [ 54.29476929,   0.        ,  79.35424805, ...,   0.        ,\n",
       "            0.        ,   0.        ],\n",
       "         [ 55.07361221,   0.        ,  55.96763992, ...,   0.        ,\n",
       "            0.        ,   0.        ],\n",
       "         ..., \n",
       "         [  0.        ,   0.        ,   0.        , ...,   0.        ,\n",
       "            0.        ,   0.        ],\n",
       "         [  0.        ,   0.        ,  11.94481087, ...,   9.6397171 ,\n",
       "            0.        ,   0.        ],\n",
       "         [  0.        ,   0.        ,  20.32649612, ...,   0.        ,\n",
       "            0.        ,   0.        ]],\n",
       "\n",
       "        [[  0.        ,   0.        ,   0.        , ...,   0.        ,\n",
       "            0.        ,   0.        ],\n",
       "         [ 29.90387726,   0.        ,  56.0063591 , ...,   0.        ,\n",
       "            0.        ,   0.        ],\n",
       "         [  4.91631413,   0.        ,  42.43690491, ...,   0.        ,\n",
       "            0.        ,   0.        ],\n",
       "         ..., \n",
       "         [  0.        ,   0.        ,   0.        , ...,   0.        ,\n",
       "            0.        ,   0.        ],\n",
       "         [  0.        ,   0.        ,  14.75822639, ...,   0.        ,\n",
       "            0.        ,   0.        ],\n",
       "         [  0.        ,   0.        ,  19.87253189, ...,   0.        ,\n",
       "            0.        ,   0.        ]]]], dtype=float32)"
      ]
     },
     "execution_count": 92,
     "metadata": {},
     "output_type": "execute_result"
    }
   ],
   "source": [
    "img = load_images('data/train/dog.2.jpg')\n",
    "img = np.expand_dims(img, axis=0)\n",
    "vgg16_magenet.predict(img)"
   ]
  },
  {
   "cell_type": "markdown",
   "metadata": {},
   "source": [
    "# Train on Image Features"
   ]
  },
  {
   "cell_type": "code",
   "execution_count": 187,
   "metadata": {
    "collapsed": false
   },
   "outputs": [],
   "source": [
    "def create_dog_cat_model(inputs, is_training=True, scope=\"dog_cat_model\"):\n",
    "    with tf.variable_scope(scope, 'dog_cat_model', [inputs]):\n",
    "        end_points = {}\n",
    "        \n",
    "        with slim.arg_scope([slim.fully_connected], activation_fn=tf.nn.relu):\n",
    "\n",
    "            net = slim.fully_connected(inputs, 1024, scope='fc1')\n",
    "            end_points['fc1'] = net\n",
    "\n",
    "            net = slim.dropout(net, 0.8, is_training=is_training)\n",
    "\n",
    "            net = slim.fully_connected(net, 1024, scope='fc2')\n",
    "            end_points['fc2'] = net\n",
    "\n",
    "            net = slim.fully_connected(net, 1, activation_fn=None, scope='logits')\n",
    "            end_points['logits'] = net\n",
    "\n",
    "            predictions = tf.nn.softmax(net, name='predictions')\n",
    "            end_points['predictions'] = tf.nn.sigmoid(logits, name='predictions')\n",
    "            return predictions, end_points"
   ]
  },
  {
   "cell_type": "code",
   "execution_count": 197,
   "metadata": {
    "collapsed": false
   },
   "outputs": [
    {
     "name": "stdout",
     "output_type": "stream",
     "text": [
      "Training Loss  16.1181\n",
      "Training Finished\n"
     ]
    }
   ],
   "source": [
    "ckpt_dir = 'dog_cat_model'\n",
    "\n",
    "dog_cat_graph = tf.Graph()\n",
    "with dog_cat_graph.as_default():\n",
    "    tf.logging.set_verbosity(tf.logging.INFO)\n",
    "    \n",
    "    inputs = tf.placeholder(tf.float64, shape=(None, 1536), name=\"inputs\")\n",
    "    labels = tf.placeholder(tf.float64, shape=(None), name=\"labels\")\n",
    "\n",
    "    predictions, end_points = create_dog_cat_model(inputs, is_training=True)\n",
    "    loss = tf.losses.log_loss(labels, predictions)\n",
    "\n",
    "    optimizer = tf.train.AdamOptimizer(learning_rate=0.005)\n",
    "    train_op = optimizer.minimize(loss)\n",
    "    init_op = tf.global_variables_initializer()\n",
    "    with tf.Session() as sess:\n",
    "        sess.run(init_op)\n",
    "        \n",
    "        loss_val,_ = sess.run([loss, train_op], feed_dict={inputs:train_features, labels:train_labels})\n",
    "        print(\"Training Loss \", loss_val)\n",
    "\n",
    "print(\"Training Finished\")"
   ]
  },
  {
   "cell_type": "code",
   "execution_count": 192,
   "metadata": {
    "collapsed": false
   },
   "outputs": [
    {
     "data": {
      "text/plain": [
       "array([ 0.,  0.])"
      ]
     },
     "execution_count": 192,
     "metadata": {},
     "output_type": "execute_result"
    }
   ],
   "source": [
    "train_labels"
   ]
  },
  {
   "cell_type": "code",
   "execution_count": 27,
   "metadata": {
    "collapsed": false
   },
   "outputs": [
    {
     "ename": "ValueError",
     "evalue": "could not broadcast input array from shape (224,224,3) into shape (244,244,3)",
     "output_type": "error",
     "traceback": [
      "\u001b[0;31m---------------------------------------------------------------------------\u001b[0m",
      "\u001b[0;31mValueError\u001b[0m                                Traceback (most recent call last)",
      "\u001b[0;32m<ipython-input-27-0bff15b4a619>\u001b[0m in \u001b[0;36m<module>\u001b[0;34m()\u001b[0m\n\u001b[1;32m      1\u001b[0m \u001b[0mtest1\u001b[0m \u001b[0;34m=\u001b[0m \u001b[0mnp\u001b[0m\u001b[0;34m.\u001b[0m\u001b[0mzeros\u001b[0m\u001b[0;34m(\u001b[0m\u001b[0;34m(\u001b[0m\u001b[0;36m10\u001b[0m\u001b[0;34m,\u001b[0m\u001b[0;36m244\u001b[0m\u001b[0;34m,\u001b[0m\u001b[0;36m244\u001b[0m\u001b[0;34m,\u001b[0m\u001b[0;36m3\u001b[0m\u001b[0;34m)\u001b[0m\u001b[0;34m)\u001b[0m\u001b[0;34m\u001b[0m\u001b[0m\n\u001b[1;32m      2\u001b[0m \u001b[0mtest2\u001b[0m \u001b[0;34m=\u001b[0m \u001b[0mload_image\u001b[0m\u001b[0;34m(\u001b[0m\u001b[0;34m'data/train/dog.l.jpg'\u001b[0m\u001b[0;34m)\u001b[0m\u001b[0;34m\u001b[0m\u001b[0m\n\u001b[0;32m----> 3\u001b[0;31m \u001b[0mtest1\u001b[0m\u001b[0;34m[\u001b[0m\u001b[0;36m1\u001b[0m\u001b[0;34m]\u001b[0m \u001b[0;34m=\u001b[0m \u001b[0mtest2\u001b[0m\u001b[0;34m\u001b[0m\u001b[0m\n\u001b[0m",
      "\u001b[0;31mValueError\u001b[0m: could not broadcast input array from shape (224,224,3) into shape (244,244,3)"
     ]
    }
   ],
   "source": [
    "test1 = np.zeros((10,244,244,3))\n",
    "test2 = load_image('data/train/dog.l.jpg')\n",
    "test3 = np.ones((244,2))\n",
    "test1[1] = test2"
   ]
  },
  {
   "cell_type": "code",
   "execution_count": 33,
   "metadata": {
    "collapsed": false
   },
   "outputs": [
    {
     "data": {
      "text/plain": [
       "numpy.ndarray"
      ]
     },
     "execution_count": 33,
     "metadata": {},
     "output_type": "execute_result"
    }
   ],
   "source": [
    "type(test1[1,:])\n"
   ]
  },
  {
   "cell_type": "code",
   "execution_count": 34,
   "metadata": {
    "collapsed": false
   },
   "outputs": [
    {
     "data": {
      "text/plain": [
       "numpy.ndarray"
      ]
     },
     "execution_count": 34,
     "metadata": {},
     "output_type": "execute_result"
    }
   ],
   "source": [
    "type(test2)"
   ]
  },
  {
   "cell_type": "code",
   "execution_count": 37,
   "metadata": {
    "collapsed": false
   },
   "outputs": [
    {
     "data": {
      "text/plain": [
       "['__call__',\n",
       " '__class__',\n",
       " '__delattr__',\n",
       " '__dict__',\n",
       " '__dir__',\n",
       " '__doc__',\n",
       " '__eq__',\n",
       " '__format__',\n",
       " '__ge__',\n",
       " '__getattribute__',\n",
       " '__gt__',\n",
       " '__hash__',\n",
       " '__init__',\n",
       " '__init_subclass__',\n",
       " '__le__',\n",
       " '__lt__',\n",
       " '__module__',\n",
       " '__ne__',\n",
       " '__new__',\n",
       " '__reduce__',\n",
       " '__reduce_ex__',\n",
       " '__repr__',\n",
       " '__setattr__',\n",
       " '__sizeof__',\n",
       " '__str__',\n",
       " '__subclasshook__',\n",
       " '__weakref__',\n",
       " '_add_inbound_node',\n",
       " '_built',\n",
       " '_feed_input_names',\n",
       " '_feed_input_shapes',\n",
       " '_feed_inputs',\n",
       " '_fit_loop',\n",
       " '_get_node_attribute_at_index',\n",
       " '_make_predict_function',\n",
       " '_make_test_function',\n",
       " '_make_train_function',\n",
       " '_output_mask_cache',\n",
       " '_output_shape_cache',\n",
       " '_output_tensor_cache',\n",
       " '_per_input_losses',\n",
       " '_per_input_updates',\n",
       " '_predict_loop',\n",
       " '_standardize_user_data',\n",
       " '_test_loop',\n",
       " '_updated_config',\n",
       " 'add_loss',\n",
       " 'add_update',\n",
       " 'add_weight',\n",
       " 'assert_input_compatibility',\n",
       " 'build',\n",
       " 'built',\n",
       " 'call',\n",
       " 'compile',\n",
       " 'compute_mask',\n",
       " 'compute_output_shape',\n",
       " 'constraints',\n",
       " 'container_nodes',\n",
       " 'count_params',\n",
       " 'evaluate',\n",
       " 'evaluate_generator',\n",
       " 'fit',\n",
       " 'fit_generator',\n",
       " 'from_config',\n",
       " 'get_config',\n",
       " 'get_input_at',\n",
       " 'get_input_mask_at',\n",
       " 'get_input_shape_at',\n",
       " 'get_layer',\n",
       " 'get_losses_for',\n",
       " 'get_output_at',\n",
       " 'get_output_mask_at',\n",
       " 'get_output_shape_at',\n",
       " 'get_updates_for',\n",
       " 'get_weights',\n",
       " 'inbound_nodes',\n",
       " 'input',\n",
       " 'input_layers',\n",
       " 'input_layers_node_indices',\n",
       " 'input_layers_tensor_indices',\n",
       " 'input_mask',\n",
       " 'input_names',\n",
       " 'input_shape',\n",
       " 'input_spec',\n",
       " 'inputs',\n",
       " 'internal_input_shapes',\n",
       " 'internal_output_shapes',\n",
       " 'layers',\n",
       " 'layers_by_depth',\n",
       " 'load_weights',\n",
       " 'losses',\n",
       " 'name',\n",
       " 'nodes_by_depth',\n",
       " 'non_trainable_weights',\n",
       " 'outbound_nodes',\n",
       " 'output',\n",
       " 'output_layers',\n",
       " 'output_layers_node_indices',\n",
       " 'output_layers_tensor_indices',\n",
       " 'output_mask',\n",
       " 'output_names',\n",
       " 'output_shape',\n",
       " 'outputs',\n",
       " 'predict',\n",
       " 'predict_generator',\n",
       " 'predict_on_batch',\n",
       " 'reset_states',\n",
       " 'run_internal_graph',\n",
       " 'save',\n",
       " 'save_weights',\n",
       " 'set_weights',\n",
       " 'state_updates',\n",
       " 'stateful',\n",
       " 'summary',\n",
       " 'supports_masking',\n",
       " 'test_on_batch',\n",
       " 'to_json',\n",
       " 'to_yaml',\n",
       " 'train_on_batch',\n",
       " 'trainable',\n",
       " 'trainable_weights',\n",
       " 'updates',\n",
       " 'uses_learning_phase',\n",
       " 'weights']"
      ]
     },
     "execution_count": 37,
     "metadata": {},
     "output_type": "execute_result"
    }
   ],
   "source": [
    "dir(vgg16_magenet)"
   ]
  },
  {
   "cell_type": "code",
   "execution_count": 39,
   "metadata": {
    "collapsed": false
   },
   "outputs": [
    {
     "data": {
      "text/plain": [
       "['Conv2D',\n",
       " 'Dense',\n",
       " 'Flatten',\n",
       " 'GlobalAveragePooling2D',\n",
       " 'GlobalMaxPooling2D',\n",
       " 'Input',\n",
       " 'K',\n",
       " 'MaxPooling2D',\n",
       " 'Model',\n",
       " 'VGG16',\n",
       " 'WEIGHTS_PATH',\n",
       " 'WEIGHTS_PATH_NO_TOP',\n",
       " '__builtins__',\n",
       " '__cached__',\n",
       " '__doc__',\n",
       " '__file__',\n",
       " '__loader__',\n",
       " '__name__',\n",
       " '__package__',\n",
       " '__spec__',\n",
       " '_obtain_input_shape',\n",
       " 'absolute_import',\n",
       " 'decode_predictions',\n",
       " 'get_file',\n",
       " 'get_source_inputs',\n",
       " 'layer_utils',\n",
       " 'preprocess_input',\n",
       " 'print_function',\n",
       " 'warnings']"
      ]
     },
     "execution_count": 39,
     "metadata": {},
     "output_type": "execute_result"
    }
   ],
   "source": [
    "dir( keras.applications.vgg16 )"
   ]
  },
  {
   "cell_type": "code",
   "execution_count": 44,
   "metadata": {
    "collapsed": false
   },
   "outputs": [
    {
     "data": {
      "text/plain": [
       "(224, 224, 3)"
      ]
     },
     "execution_count": 44,
     "metadata": {},
     "output_type": "execute_result"
    }
   ],
   "source": [
    "test2.shape"
   ]
  },
  {
   "cell_type": "code",
   "execution_count": 49,
   "metadata": {
    "collapsed": false
   },
   "outputs": [
    {
     "data": {
      "text/plain": [
       "array([[  25.,   13.,   23., ...,  107.,  111.,  110.],\n",
       "       [  29.,   17.,   27., ...,  110.,  110.,  110.],\n",
       "       [  22.,   10.,   20., ...,  112.,  110.,  111.],\n",
       "       ..., \n",
       "       [ 201.,   44.,   73., ...,  239.,   68.,   87.],\n",
       "       [ 197.,   54.,   74., ...,  242.,   63.,   85.],\n",
       "       [ 189.,   46.,   66., ...,  242.,   63.,   85.]], dtype=float32)"
      ]
     },
     "execution_count": 49,
     "metadata": {},
     "output_type": "execute_result"
    }
   ],
   "source": [
    "test2.reshape((224, -1))"
   ]
  },
  {
   "cell_type": "code",
   "execution_count": 54,
   "metadata": {
    "collapsed": false
   },
   "outputs": [
    {
     "data": {
      "text/plain": [
       "array([ 1.,  1.,  1.,  1.,  1.,  1.,  1.,  1.,  1.])"
      ]
     },
     "execution_count": 54,
     "metadata": {},
     "output_type": "execute_result"
    }
   ],
   "source": [
    "np.ones(10)[0:-1]"
   ]
  },
  {
   "cell_type": "code",
   "execution_count": null,
   "metadata": {
    "collapsed": true
   },
   "outputs": [],
   "source": []
  }
 ],
 "metadata": {
  "kernelspec": {
   "display_name": "Python 3",
   "language": "python",
   "name": "python3"
  },
  "language_info": {
   "codemirror_mode": {
    "name": "ipython",
    "version": 3
   },
   "file_extension": ".py",
   "mimetype": "text/x-python",
   "name": "python",
   "nbconvert_exporter": "python",
   "pygments_lexer": "ipython3",
   "version": "3.6.0"
  }
 },
 "nbformat": 4,
 "nbformat_minor": 2
}
